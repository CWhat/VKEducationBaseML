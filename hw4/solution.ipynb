{
 "cells": [
  {
   "cell_type": "code",
   "execution_count": 1,
   "metadata": {},
   "outputs": [
    {
     "name": "stdout",
     "output_type": "stream",
     "text": [
      "Requirement already satisfied: pandas in /home/zahar/BMSTU/techpark/.venv/lib/python3.10/site-packages (2.2.3)\n",
      "Requirement already satisfied: scikit-learn in /home/zahar/BMSTU/techpark/.venv/lib/python3.10/site-packages (1.6.1)\n",
      "Requirement already satisfied: matplotlib in /home/zahar/BMSTU/techpark/.venv/lib/python3.10/site-packages (3.10.1)\n",
      "Requirement already satisfied: numpy>=1.22.4 in /home/zahar/BMSTU/techpark/.venv/lib/python3.10/site-packages (from pandas) (2.2.3)\n",
      "Requirement already satisfied: python-dateutil>=2.8.2 in /home/zahar/BMSTU/techpark/.venv/lib/python3.10/site-packages (from pandas) (2.9.0.post0)\n",
      "Requirement already satisfied: pytz>=2020.1 in /home/zahar/BMSTU/techpark/.venv/lib/python3.10/site-packages (from pandas) (2025.2)\n",
      "Requirement already satisfied: tzdata>=2022.7 in /home/zahar/BMSTU/techpark/.venv/lib/python3.10/site-packages (from pandas) (2025.2)\n",
      "Requirement already satisfied: scipy>=1.6.0 in /home/zahar/BMSTU/techpark/.venv/lib/python3.10/site-packages (from scikit-learn) (1.15.2)\n",
      "Requirement already satisfied: joblib>=1.2.0 in /home/zahar/BMSTU/techpark/.venv/lib/python3.10/site-packages (from scikit-learn) (1.4.2)\n",
      "Requirement already satisfied: threadpoolctl>=3.1.0 in /home/zahar/BMSTU/techpark/.venv/lib/python3.10/site-packages (from scikit-learn) (3.6.0)\n",
      "Requirement already satisfied: contourpy>=1.0.1 in /home/zahar/BMSTU/techpark/.venv/lib/python3.10/site-packages (from matplotlib) (1.3.1)\n",
      "Requirement already satisfied: cycler>=0.10 in /home/zahar/BMSTU/techpark/.venv/lib/python3.10/site-packages (from matplotlib) (0.12.1)\n",
      "Requirement already satisfied: fonttools>=4.22.0 in /home/zahar/BMSTU/techpark/.venv/lib/python3.10/site-packages (from matplotlib) (4.57.0)\n",
      "Requirement already satisfied: kiwisolver>=1.3.1 in /home/zahar/BMSTU/techpark/.venv/lib/python3.10/site-packages (from matplotlib) (1.4.8)\n",
      "Requirement already satisfied: packaging>=20.0 in /home/zahar/BMSTU/techpark/.venv/lib/python3.10/site-packages (from matplotlib) (24.2)\n",
      "Requirement already satisfied: pillow>=8 in /home/zahar/BMSTU/techpark/.venv/lib/python3.10/site-packages (from matplotlib) (11.1.0)\n",
      "Requirement already satisfied: pyparsing>=2.3.1 in /home/zahar/BMSTU/techpark/.venv/lib/python3.10/site-packages (from matplotlib) (3.2.3)\n",
      "Requirement already satisfied: six>=1.5 in /home/zahar/BMSTU/techpark/.venv/lib/python3.10/site-packages (from python-dateutil>=2.8.2->pandas) (1.17.0)\n"
     ]
    }
   ],
   "source": [
    "!pip install pandas scikit-learn matplotlib"
   ]
  },
  {
   "cell_type": "code",
   "execution_count": 2,
   "metadata": {},
   "outputs": [],
   "source": [
    "import string\n",
    "import re\n",
    "\n",
    "import pandas as pd\n",
    "import numpy as np\n",
    "import scipy.sparse as sparse\n",
    "import matplotlib.pyplot as plt\n",
    "from sklearn.feature_extraction.text import TfidfVectorizer\n",
    "from sklearn.linear_model import SGDClassifier\n",
    "from sklearn.metrics import precision_score, recall_score,\\\n",
    "    f1_score, classification_report\n",
    "from sklearn.model_selection import train_test_split"
   ]
  },
  {
   "cell_type": "markdown",
   "metadata": {},
   "source": [
    "Файлы с данными должны лежать в папке hw4."
   ]
  },
  {
   "cell_type": "code",
   "execution_count": 3,
   "metadata": {},
   "outputs": [],
   "source": [
    "train_file = 'train.csv'\n",
    "test_file = 'test.csv'"
   ]
  },
  {
   "cell_type": "code",
   "execution_count": 4,
   "metadata": {},
   "outputs": [],
   "source": [
    "train_df = pd.read_csv(train_file, index_col='ID')"
   ]
  },
  {
   "cell_type": "markdown",
   "metadata": {},
   "source": [
    "# Предобработка данных"
   ]
  },
  {
   "cell_type": "code",
   "execution_count": 5,
   "metadata": {},
   "outputs": [
    {
     "data": {
      "application/vnd.microsoft.datawrangler.viewer.v0+json": {
       "columns": [
        {
         "name": "ID",
         "rawType": "int64",
         "type": "integer"
        },
        {
         "name": "url",
         "rawType": "object",
         "type": "string"
        },
        {
         "name": "title",
         "rawType": "object",
         "type": "string"
        },
        {
         "name": "label",
         "rawType": "int64",
         "type": "integer"
        }
       ],
       "conversionMethod": "pd.DataFrame",
       "ref": "7b8ad73f-8c8f-47c9-bf5a-c31c43d614fe",
       "rows": [
        [
         "54589",
         "www.kinotrast.com",
         "Сериал Качели 2018 Беларусь Все серии смотреть онлайн бесплатно фильм в хорошем качестве HD 720 1080",
         "0"
        ],
        [
         "41071",
         "pc01.ru",
         "Шкаф от спального гарнитура Энрике - 37 000 руб., в Грозном на аналоге Авит",
         "0"
        ],
        [
         "19161",
         "forum.zoneofgames.ru",
         "SWAT 3: Close Quarters Battle - Русификаторы - Zone of Games Forum",
         "0"
        ],
        [
         "75429",
         "librebook.me",
         "Читать онлайн электронную книгу Прометей, или Жизнь Бальзака - Введение бесплатно и без регистрации! - LibreBook.ru",
         "0"
        ],
        [
         "121091",
         "meduniver.com",
         "Как научить щедрости собственного мужчину и отучить мужа от жадности? Причина жадности мужа в жене",
         "0"
        ],
        [
         "35498",
         "sutochno.ru",
         "2-комнатная квартира посуточно, Ашкелон, Ха-Намаль улица, 5, объявление 674453 — Суточно.ру",
         "0"
        ],
        [
         "51325",
         "finalniiiepra.xyz",
         "Заявка принята",
         "0"
        ],
        [
         "82954",
         "nabugre.com",
         "Виза в Китай в Гонконге: получение для россиян, как сделать рабочую и где ее получить, документы, стоимость и сроки",
         "0"
        ],
        [
         "87724",
         "stavropol.hh.ru",
         "Вакансии компании Карт Бланш, ООО ПКФ",
         "0"
        ],
        [
         "45185",
         "spb.hh.ru",
         "Вакансия Менеджер по туризму в Архангельске, работа в Северное Кадровое Агентств",
         "0"
        ]
       ],
       "shape": {
        "columns": 3,
        "rows": 10
       }
      },
      "text/html": [
       "<div>\n",
       "<style scoped>\n",
       "    .dataframe tbody tr th:only-of-type {\n",
       "        vertical-align: middle;\n",
       "    }\n",
       "\n",
       "    .dataframe tbody tr th {\n",
       "        vertical-align: top;\n",
       "    }\n",
       "\n",
       "    .dataframe thead th {\n",
       "        text-align: right;\n",
       "    }\n",
       "</style>\n",
       "<table border=\"1\" class=\"dataframe\">\n",
       "  <thead>\n",
       "    <tr style=\"text-align: right;\">\n",
       "      <th></th>\n",
       "      <th>url</th>\n",
       "      <th>title</th>\n",
       "      <th>label</th>\n",
       "    </tr>\n",
       "    <tr>\n",
       "      <th>ID</th>\n",
       "      <th></th>\n",
       "      <th></th>\n",
       "      <th></th>\n",
       "    </tr>\n",
       "  </thead>\n",
       "  <tbody>\n",
       "    <tr>\n",
       "      <th>54589</th>\n",
       "      <td>www.kinotrast.com</td>\n",
       "      <td>Сериал Качели 2018 Беларусь Все серии смотреть...</td>\n",
       "      <td>0</td>\n",
       "    </tr>\n",
       "    <tr>\n",
       "      <th>41071</th>\n",
       "      <td>pc01.ru</td>\n",
       "      <td>Шкаф от спального гарнитура Энрике - 37 000 ру...</td>\n",
       "      <td>0</td>\n",
       "    </tr>\n",
       "    <tr>\n",
       "      <th>19161</th>\n",
       "      <td>forum.zoneofgames.ru</td>\n",
       "      <td>SWAT 3: Close Quarters Battle - Русификаторы -...</td>\n",
       "      <td>0</td>\n",
       "    </tr>\n",
       "    <tr>\n",
       "      <th>75429</th>\n",
       "      <td>librebook.me</td>\n",
       "      <td>Читать онлайн электронную книгу Прометей, или ...</td>\n",
       "      <td>0</td>\n",
       "    </tr>\n",
       "    <tr>\n",
       "      <th>121091</th>\n",
       "      <td>meduniver.com</td>\n",
       "      <td>Как научить щедрости собственного мужчину и от...</td>\n",
       "      <td>0</td>\n",
       "    </tr>\n",
       "    <tr>\n",
       "      <th>35498</th>\n",
       "      <td>sutochno.ru</td>\n",
       "      <td>2-комнатная квартира посуточно, Ашкелон, Ха-На...</td>\n",
       "      <td>0</td>\n",
       "    </tr>\n",
       "    <tr>\n",
       "      <th>51325</th>\n",
       "      <td>finalniiiepra.xyz</td>\n",
       "      <td>Заявка принята</td>\n",
       "      <td>0</td>\n",
       "    </tr>\n",
       "    <tr>\n",
       "      <th>82954</th>\n",
       "      <td>nabugre.com</td>\n",
       "      <td>Виза в Китай в Гонконге: получение для россиян...</td>\n",
       "      <td>0</td>\n",
       "    </tr>\n",
       "    <tr>\n",
       "      <th>87724</th>\n",
       "      <td>stavropol.hh.ru</td>\n",
       "      <td>Вакансии компании Карт Бланш, ООО ПКФ</td>\n",
       "      <td>0</td>\n",
       "    </tr>\n",
       "    <tr>\n",
       "      <th>45185</th>\n",
       "      <td>spb.hh.ru</td>\n",
       "      <td>Вакансия Менеджер по туризму в Архангельске, р...</td>\n",
       "      <td>0</td>\n",
       "    </tr>\n",
       "  </tbody>\n",
       "</table>\n",
       "</div>"
      ],
      "text/plain": [
       "                         url  \\\n",
       "ID                             \n",
       "54589      www.kinotrast.com   \n",
       "41071                pc01.ru   \n",
       "19161   forum.zoneofgames.ru   \n",
       "75429           librebook.me   \n",
       "121091         meduniver.com   \n",
       "35498            sutochno.ru   \n",
       "51325      finalniiiepra.xyz   \n",
       "82954            nabugre.com   \n",
       "87724        stavropol.hh.ru   \n",
       "45185              spb.hh.ru   \n",
       "\n",
       "                                                    title  label  \n",
       "ID                                                                \n",
       "54589   Сериал Качели 2018 Беларусь Все серии смотреть...      0  \n",
       "41071   Шкаф от спального гарнитура Энрике - 37 000 ру...      0  \n",
       "19161   SWAT 3: Close Quarters Battle - Русификаторы -...      0  \n",
       "75429   Читать онлайн электронную книгу Прометей, или ...      0  \n",
       "121091  Как научить щедрости собственного мужчину и от...      0  \n",
       "35498   2-комнатная квартира посуточно, Ашкелон, Ха-На...      0  \n",
       "51325                                      Заявка принята      0  \n",
       "82954   Виза в Китай в Гонконге: получение для россиян...      0  \n",
       "87724               Вакансии компании Карт Бланш, ООО ПКФ      0  \n",
       "45185   Вакансия Менеджер по туризму в Архангельске, р...      0  "
      ]
     },
     "execution_count": 5,
     "metadata": {},
     "output_type": "execute_result"
    }
   ],
   "source": [
    "train_df.sample(10, random_state=42)"
   ]
  },
  {
   "cell_type": "markdown",
   "metadata": {},
   "source": [
    "В данных есть повторы."
   ]
  },
  {
   "cell_type": "code",
   "execution_count": 6,
   "metadata": {},
   "outputs": [],
   "source": [
    "train_df.drop(index=np.nonzero(\n",
    "    train_df.duplicated(subset=['url', 'title']))[0],\n",
    "    inplace=True)"
   ]
  },
  {
   "cell_type": "code",
   "execution_count": 7,
   "metadata": {},
   "outputs": [
    {
     "name": "stdout",
     "output_type": "stream",
     "text": [
      "<class 'pandas.core.frame.DataFrame'>\n",
      "Index: 130511 entries, 0 to 135308\n",
      "Data columns (total 3 columns):\n",
      " #   Column  Non-Null Count   Dtype \n",
      "---  ------  --------------   ----- \n",
      " 0   url     130511 non-null  object\n",
      " 1   title   130510 non-null  object\n",
      " 2   label   130511 non-null  int64 \n",
      "dtypes: int64(1), object(2)\n",
      "memory usage: 4.0+ MB\n"
     ]
    },
    {
     "data": {
      "application/vnd.microsoft.datawrangler.viewer.v0+json": {
       "columns": [
        {
         "name": "ID",
         "rawType": "int64",
         "type": "integer"
        },
        {
         "name": "url",
         "rawType": "object",
         "type": "string"
        },
        {
         "name": "title",
         "rawType": "object",
         "type": "unknown"
        },
        {
         "name": "label",
         "rawType": "int64",
         "type": "integer"
        }
       ],
       "conversionMethod": "pd.DataFrame",
       "ref": "c4824400-7217-422b-9176-a1f493bf462c",
       "rows": [
        [
         "78497",
         "jpg-1.com",
         null,
         "0"
        ]
       ],
       "shape": {
        "columns": 3,
        "rows": 1
       }
      },
      "text/html": [
       "<div>\n",
       "<style scoped>\n",
       "    .dataframe tbody tr th:only-of-type {\n",
       "        vertical-align: middle;\n",
       "    }\n",
       "\n",
       "    .dataframe tbody tr th {\n",
       "        vertical-align: top;\n",
       "    }\n",
       "\n",
       "    .dataframe thead th {\n",
       "        text-align: right;\n",
       "    }\n",
       "</style>\n",
       "<table border=\"1\" class=\"dataframe\">\n",
       "  <thead>\n",
       "    <tr style=\"text-align: right;\">\n",
       "      <th></th>\n",
       "      <th>url</th>\n",
       "      <th>title</th>\n",
       "      <th>label</th>\n",
       "    </tr>\n",
       "    <tr>\n",
       "      <th>ID</th>\n",
       "      <th></th>\n",
       "      <th></th>\n",
       "      <th></th>\n",
       "    </tr>\n",
       "  </thead>\n",
       "  <tbody>\n",
       "    <tr>\n",
       "      <th>78497</th>\n",
       "      <td>jpg-1.com</td>\n",
       "      <td>NaN</td>\n",
       "      <td>0</td>\n",
       "    </tr>\n",
       "  </tbody>\n",
       "</table>\n",
       "</div>"
      ],
      "text/plain": [
       "             url title  label\n",
       "ID                           \n",
       "78497  jpg-1.com   NaN      0"
      ]
     },
     "execution_count": 7,
     "metadata": {},
     "output_type": "execute_result"
    }
   ],
   "source": [
    "train_df.info()\n",
    "train_df[train_df.isna().any(axis=1)]"
   ]
  },
  {
   "cell_type": "markdown",
   "metadata": {},
   "source": [
    "Удалим строку с nan:"
   ]
  },
  {
   "cell_type": "code",
   "execution_count": 8,
   "metadata": {},
   "outputs": [],
   "source": [
    "train_df.dropna(inplace=True)"
   ]
  },
  {
   "cell_type": "code",
   "execution_count": 9,
   "metadata": {},
   "outputs": [
    {
     "data": {
      "image/png": "[encoded data removed]",
      "text/plain": [
       "<Figure size 640x480 with 1 Axes>"
      ]
     },
     "metadata": {},
     "output_type": "display_data"
    }
   ],
   "source": [
    "train_df['label'].value_counts().plot.bar()\n",
    "plt.ylabel('count')\n",
    "plt.grid()\n",
    "plt.show()"
   ]
  },
  {
   "cell_type": "markdown",
   "metadata": {},
   "source": [
    "Датасет несбалансирован."
   ]
  },
  {
   "cell_type": "code",
   "execution_count": 10,
   "metadata": {},
   "outputs": [
    {
     "name": "stdout",
     "output_type": "stream",
     "text": [
      "[' ', '%', ',', '-', '.', '0', '1', '2', '3', '4', '5', '6', '7', '8', '9', ':', '@', 'A', 'B', 'C', 'D', 'E', 'F', 'G', 'I', 'K', 'L', 'M', 'N', 'O', 'R', 'S', 'U', 'V', 'W', 'Z', '\\\\', '_', 'a', 'b', 'c', 'd', 'e', 'f', 'g', 'h', 'i', 'j', 'k', 'l', 'm', 'n', 'o', 'p', 'q', 'r', 's', 't', 'u', 'v', 'w', 'x', 'y', 'z', 'А', 'Б', 'Д', 'Е', 'Ж', 'З', 'И', 'М', 'Н', 'О', 'П', 'Р', 'С', 'Т', 'Ь', 'Я', 'а', 'б', 'в', 'г', 'д', 'е', 'ж', 'з', 'и', 'й', 'к', 'л', 'м', 'н', 'о', 'п', 'р', 'с', 'т', 'у', 'ф', 'х', 'ц', 'ч', 'ш', 'щ', 'ы', 'ь', 'э', 'ю', 'я']\n"
     ]
    }
   ],
   "source": [
    "url_alphabet = set()\n",
    "for r in train_df['url']:\n",
    "    url_alphabet.update(r)\n",
    "print(sorted(list(url_alphabet)))"
   ]
  },
  {
   "cell_type": "markdown",
   "metadata": {},
   "source": [
    "В url есть русские буквы и спец. символы, не свойственные url."
   ]
  },
  {
   "cell_type": "code",
   "execution_count": 11,
   "metadata": {},
   "outputs": [
    {
     "name": "stdout",
     "output_type": "stream",
     "text": [
      "D:\\Мои документы\\ПОЖАРНАЯ БЕЗОПАСТНОСТЬ\\Деревообрабатывающий цех 2017 г. Инструкции о мерах пожарной безопасности, противопожарные инструктажи, приказы..mht\n"
     ]
    }
   ],
   "source": [
    "for r in train_df['url']:\n",
    "    if ',' in r:\n",
    "        print(r)"
   ]
  },
  {
   "cell_type": "markdown",
   "metadata": {},
   "source": [
    "Эм... Ну, окей."
   ]
  },
  {
   "cell_type": "code",
   "execution_count": 12,
   "metadata": {},
   "outputs": [
    {
     "name": "stdout",
     "output_type": "stream",
     "text": [
      "golosua.com:8080\n",
      "www.pornktube.porn:443\n",
      "cid:op.mhtml.1381394256635.7529b63640301a1c@10.27.184.97\n",
      "file:\n",
      "mirkmf.ru:443\n",
      "www.kzn.ru:443\n",
      "192.168.0.3:33333\n",
      "graciasport.ru:443\n",
      "gorcentr:7Ad6xZ@gorcentr.i58.ru\n",
      "F:\n",
      "C:\n",
      "C:\\Users\\nzarubin\\AppData\\Local\\Microsoft\\Windows\\INetCache\\Content.Outlook\\ES2N2VVV\\shtornyj-polupricep-2013-g-v-saf-koroba-71959610.html\n",
      "bemob.online:443\n",
      "www.kzn.ru:443\n",
      "www.kzn.ru:443\n",
      "graciasport.ru:443\n",
      "permnews.ru:443\n",
      "rubilnik.ru:443\n",
      "antitube.ru:443\n",
      "localhost:7784\n",
      "ivnoski.ru:443\n",
      "permnews.ru:443\n",
      "file:\n",
      "rubilnik.ru:443\n",
      "opt-hoz.ru:443\n",
      "www0.kommersant.ru:8080\n",
      "hosex.net:443\n",
      "glavnoe.ua:443\n",
      "D:\\Мои документы\\ПОЖАРНАЯ БЕЗОПАСТНОСТЬ\\Деревообрабатывающий цех 2017 г. Инструкции о мерах пожарной безопасности, противопожарные инструктажи, приказы..mht\n",
      "C:\n",
      "rubilnik.ru:443\n",
      "opt-hoz.ru:443\n",
      "C:\\Users\\Sergey\\Desktop\\5.htm\n",
      "C:\n",
      "newtonew.com:81\n",
      "mc.ru:8080\n",
      "porn-video.ru:443\n",
      "file:\n",
      "ivnoski.ru:443\n"
     ]
    }
   ],
   "source": [
    "black_list = ' ,:@'\n",
    "for url in train_df['url']:\n",
    "    for c in black_list:\n",
    "        if c in url:\n",
    "            print(url)\n",
    "            break"
   ]
  },
  {
   "cell_type": "markdown",
   "metadata": {},
   "source": [
    "Есть различные локальные страницы ('C:', 'D:', '192.168.*', ...). Не будем их удалять, потому что на это нужно потратить много времени, а выхлоп небольшой."
   ]
  },
  {
   "cell_type": "code",
   "execution_count": 13,
   "metadata": {},
   "outputs": [
    {
     "name": "stdout",
     "output_type": "stream",
     "text": [
      "3165\n",
      "['\\x04', '\\x0b', ' ', '!', '\"', '#', '$', '%', '&', \"'\", '(', ')', '*', '+', ',', '-', '.', '/', '0', '1', '2', '3', '4', '5', '6', '7', '8', '9', ':', ';', '<', '=', '>', '?', '@', 'A', 'B', 'C', 'D', 'E', 'F', 'G', 'H', 'I', 'J', 'K', 'L', 'M', 'N', 'O', 'P', 'Q', 'R', 'S', 'T', 'U', 'V', 'W', 'X', 'Y', 'Z', '[', '\\\\', ']', '^', '_', '`', 'a', 'b', 'c', 'd', 'e', 'f', 'g', 'h', 'i', 'j', 'k', 'l', 'm', 'n', 'o', 'p', 'q', 'r', 's', 't', 'u', 'v', 'w', 'x', 'y', 'z', '{', '|', '}', '~', '\\x96', '\\x97', '\\xa0', '¡', '£', '¤', '¦', '§', '©', '«', '¬', '\\xad', '®', '°', '±', '²', '³', '´', 'µ', '·', '¹', 'º', '»', '¼', '½', '¿', 'À', 'Á', 'Â', 'Ä', 'Å', 'Æ', 'Ç', 'È', 'É', 'Ë', 'Ì', 'Í', 'Î', 'Ð', 'Ñ', 'Ó', 'Ö', '×', 'Ø', 'Ú', 'Ü', 'Ý', 'ß', 'à', 'á', 'â', 'ã', 'ä', 'å', 'æ', 'ç', 'è', 'é', 'ê', 'ë', 'ì', 'í', 'î', 'ï', 'ð', 'ñ', 'ò', 'ó', 'ô', 'õ', 'ö', '÷', 'ø', 'ù', 'ú', 'û', 'ü', 'ý', 'Ā', 'ā', 'Ă', 'ă', 'ą', 'ć', 'Ċ', 'Č', 'č', 'Đ', 'đ', 'ē', 'ĕ', 'ė', 'ę', 'ě', 'Ğ', 'ğ', 'ģ', 'Ĩ', 'ĩ', 'Ī', 'ī', 'Ĭ', 'ĭ', 'į', 'İ', 'ı', 'Ķ', 'ķ', 'Ļ', 'ļ', 'Ľ', 'ľ', 'Ł', 'ł', 'ń', 'Ņ', 'ņ', 'ň', 'ŋ', 'ō', 'ő', 'Œ', 'œ', 'Ř', 'ř', 'ś', 'Ş', 'ş', 'Š', 'š', 'ţ', 'Ť', 'ť', 'ŧ', 'ũ', 'Ū', 'ū', 'Ů', 'ů', 'ű', 'ų', 'Ŷ', 'Ÿ', 'ź', 'Ż', 'ż', 'Ž', 'ž', 'Ɗ', 'Ə', 'ƒ', 'Ɣ', 'Ɲ', 'Ơ', 'ơ', 'Ʀ', 'Ư', 'ư', 'Ʒ', 'Ƹ', 'ǀ', 'Ǯ', 'Ƿ', 'ǻ', 'Ǿ', 'ș', 'ț', 'ȵ', 'Ⱥ', 'Ⱦ', 'Ɋ', 'ə', 'ɴ', 'ʃ', 'ʖ', 'ʜ', 'ʻ', '˙', '̀', '́', '̃', '̄', '̆', '̇', '̡', '̣', '̧', '̨', '̵', '̶', '͜', '͡', 'ͣ', 'ͥ', 'ͫ', 'Ͷ', 'Ά', '·', 'Έ', 'Ό', 'Α', 'Β', 'Γ', 'Δ', 'Ε', 'Ζ', 'Η', 'Θ', 'Ι', 'Κ', 'Λ', 'Μ', 'Ν', 'Ξ', 'Ο', 'Π', 'Ρ', 'Σ', 'Τ', 'Υ', 'Φ', 'Χ', 'Ψ', 'ά', 'έ', 'ή', 'ί', 'ΰ', 'α', 'β', 'γ', 'δ', 'ε', 'ζ', 'η', 'θ', 'ι', 'κ', 'λ', 'μ', 'ν', 'ξ', 'ο', 'π', 'ρ', 'ς', 'σ', 'τ', 'υ', 'φ', 'χ', 'ω', 'ό', 'ύ', 'ώ', 'Ϟ', 'ϡ', 'Ϣ', 'Ϧ', 'ϯ', 'Ё', 'Ђ', 'Ѓ', 'Є', 'Ѕ', 'І', 'Ї', 'Ј', 'Њ', 'Ќ', 'Ў', 'А', 'Б', 'В', 'Г', 'Д', 'Е', 'Ж', 'З', 'И', 'Й', 'К', 'Л', 'М', 'Н', 'О', 'П', 'Р', 'С', 'Т', 'У', 'Ф', 'Х', 'Ц', 'Ч', 'Ш', 'Щ', 'Ъ', 'Ы', 'Ь', 'Э', 'Ю', 'Я', 'а', 'б', 'в', 'г', 'д', 'е', 'ж', 'з', 'и', 'й', 'к', 'л', 'м', 'н', 'о', 'п', 'р', 'с', 'т', 'у', 'ф', 'х', 'ц', 'ч', 'ш', 'щ', 'ъ', 'ы', 'ь', 'э', 'ю', 'я', 'ё', 'ѓ', 'є', 'ѕ', 'і', 'ї', 'ј', 'љ', 'њ', 'ћ', 'ў', 'џ', 'ѣ', 'Ѧ', 'ѳ', 'ѵ', 'Ґ', 'ґ', 'Ғ', 'ғ', 'Җ', 'җ', 'ҙ', 'Қ', 'қ', 'Ҝ', 'Ҟ', 'Ҡ', 'ҡ', 'Ң', 'ң', 'ҥ', 'Ҩ', 'ҩ', 'ҭ', 'Ү', 'ү', 'Ұ', 'ұ', 'Ҳ', 'ҳ', 'ҷ', 'Һ', 'һ', 'Ӈ', 'ӈ', 'Ә', 'ә', 'Ӝ', 'ӣ', 'Ө', 'ө', 'ԥ', 'Ա', 'Բ', 'Գ', 'Դ', 'Ե', 'Զ', 'Է', 'Ը', 'Թ', 'Ժ', 'Ի', 'Լ', 'Խ', 'Ծ', 'Կ', 'Հ', 'Ձ', 'Ղ', 'Ճ', 'Մ', 'Յ', 'Ն', 'Շ', 'Ո', 'Պ', 'Ջ', 'Ռ', 'Ս', 'Վ', 'Տ', 'Ր', 'Ց', 'Ւ', 'Փ', 'Ք', 'Ֆ', '՝', '՞', 'ա', 'բ', 'գ', 'դ', 'ե', 'զ', 'է', 'ը', 'թ', 'ժ', 'ի', 'լ', 'խ', 'ծ', 'կ', 'հ', 'ձ', 'ղ', 'ճ', 'մ', 'յ', 'ն', 'շ', 'ո', 'չ', 'պ', 'ջ', 'ռ', 'ս', 'վ', 'տ', 'ր', 'ց', 'ւ', 'փ', 'ք', 'օ', 'ֆ', 'և', '׃', 'א', 'ב', 'ג', 'ד', 'ה', 'ו', 'ז', 'ח', 'ט', 'י', 'ך', 'כ', 'ל', 'ם', 'מ', 'ן', 'נ', 'ס', 'ע', 'פ', 'צ', 'ק', 'ר', 'ש', 'ת', 'ײ', '،', '؟', 'ء', 'آ', 'أ', 'ؤ', 'إ', 'ئ', 'ا', 'ب', 'ة', 'ت', 'ث', 'ج', 'ح', 'خ', 'د', 'ذ', 'ر', 'ز', 'س', 'ش', 'ص', 'ض', 'ط', 'ظ', 'ع', 'غ', 'ـ', 'ف', 'ق', 'ك', 'ل', 'م', 'ن', 'ه', 'و', 'ى', 'ي', 'ً', 'ٍ', 'َ', 'ّ', '٠', 'ٯ', 'پ', 'چ', 'ڈ', 'ړ', 'ک', 'ڪ', 'گ', 'ی', 'ے', '۞', '۸', 'ܓ', 'ܨ', 'ݖ', 'ँ', 'ं', 'ः', 'अ', 'आ', 'इ', 'ई', 'उ', 'ऊ', 'ए', 'ऐ', 'ऑ', 'ओ', 'औ', 'क', 'ख', 'ग', 'घ', 'च', 'छ', 'ज', 'झ', 'ञ', 'ट', 'ठ', 'ड', 'ढ', 'ण', 'त', 'थ', 'द', 'ध', 'न', 'प', 'फ', 'ब', 'भ', 'म', 'य', 'र', 'ल', 'व', 'श', 'ष', 'स', 'ह', '़', 'ा', 'ि', 'ी', 'ु', 'ू', 'ृ', 'ॅ', 'े', 'ै', 'ॉ', 'ो', 'ौ', '्', 'ॐ', 'ग़', '।', 'ঁ', 'ং', 'অ', 'আ', 'ই', 'উ', 'এ', 'ও', 'ক', 'খ', 'গ', 'ঘ', 'ঙ', 'চ', 'ছ', 'জ', 'ট', 'ড', 'ঢ', 'ণ', 'ত', 'থ', 'দ', 'ধ', 'ন', 'প', 'ফ', 'ব', 'ভ', 'ম', 'য', 'র', 'ল', 'শ', 'ষ', 'স', 'হ', '়', 'া', 'ি', 'ী', 'ু', 'ূ', 'ৃ', 'ে', 'ৈ', 'ো', '্', 'ਈ', 'ਉ', 'ਓ', 'ਕ', 'ਗ', 'ਚ', 'ਟ', 'ਡ', 'ਤ', 'ਦ', 'ਨ', 'ਫ', 'ਬ', 'ਮ', 'ਰ', 'ਲ', 'ਵ', 'ਸ', 'ਹ', '਼', 'ਾ', 'ਿ', 'ੀ', 'ੁ', 'ੂ', 'ੇ', 'ੈ', 'ੋ', 'ੜ', 'ੰ', 'ં', 'ગ', 'જ', 'ડ', 'દ', 'ન', 'મ', 'ય', 'ર', 'ળ', 'ા', 'િ', 'ી', 'ુ', '૦', '૧', '૨', '૮', 'அ', 'ஆ', 'இ', 'எ', 'ஐ', 'ஒ', 'க', 'ங', 'ச', 'ட', 'ண', 'த', 'ந', 'ன', 'ப', 'ம', 'ய', 'ர', 'ற', 'ல', 'ள', 'ழ', 'வ', 'ஸ', 'ா', 'ி', 'ீ', 'ு', 'ூ', 'ெ', 'ே', 'ை', 'ோ', '்', '௵', 'ం', 'ఉ', 'క', 'చ', 'త', 'న', 'మ', 'య', 'ర', 'వ', 'స', 'ా', 'ి', 'ీ', 'ు', 'ృ', 'ై', 'ో', '్', 'ಂ', 'ಅ', 'ಆ', 'ಎ', 'ಒ', 'ಕ', 'ಗ', 'ಚ', 'ಜ', 'ಟ', 'ಡ', 'ಣ', 'ತ', 'ಥ', 'ದ', 'ಧ', 'ನ', 'ಪ', 'ಬ', 'ಮ', 'ಯ', 'ರ', 'ಲ', 'ವ', 'ಸ', 'ಹ', 'ಾ', 'ಿ', 'ು', 'ೂ', 'ೆ', 'ೇ', 'ೈ', 'ೊ', '್', 'ം', 'ക', 'ഗ', 'ജ', 'ട', 'ഠ', 'ണ', 'ത', 'ധ', 'ന', 'പ', 'ഫ', 'ഭ', 'മ', 'യ', 'ര', 'റ', 'ല', 'ഴ', 'വ', 'ശ', 'ഷ', 'സ', 'ാ', 'ി', 'ീ', 'ു', 'െ', '്', 'ർ', 'ൽ', 'ඔ', 'ක', 'ග', 'ඝ', 'ච', 'ට', 'ඩ', 'ත', 'ද', 'ධ', 'න', 'ප', 'බ', 'ම', 'ය', 'ර', 'ල', 'ව', 'ස', 'ෆ', '්', 'ා', 'ැ', 'ි', 'ු', 'ූ', 'ෙ', 'ේ', 'ො', 'ෝ', 'ก', 'ข', 'ค', 'ง', 'จ', 'ฉ', 'ช', 'ซ', 'ญ', 'ณ', 'ด', 'ต', 'ถ', 'ท', 'ธ', 'น', 'บ', 'ป', 'ผ', 'ฝ', 'พ', 'ฟ', 'ภ', 'ม', 'ย', 'ร', 'ฤ', 'ล', 'ว', 'ศ', 'ษ', 'ส', 'ห', 'อ', 'ฮ', 'ะ', 'ั', 'า', 'ำ', 'ิ', 'ี', 'ื', 'ุ', 'ู', 'เ', 'แ', 'โ', 'ใ', 'ไ', 'ๆ', '็', '่', '้', '๊', '์', '๏', '๑', '༺', '༻', 'ა', 'ბ', 'გ', 'დ', 'ე', 'ვ', 'ზ', 'თ', 'ი', 'კ', 'ლ', 'მ', 'ნ', 'ო', 'პ', 'ჟ', 'რ', 'ს', 'ტ', 'უ', 'ფ', 'ქ', 'ღ', 'ყ', 'შ', 'ჩ', 'ც', 'ძ', 'წ', 'ჭ', 'ხ', 'ჯ', 'ჰ', 'ሆ', 'ለ', 'ል', 'መ', 'ሚ', 'ማ', 'ም', 'ረ', 'ር', 'ሮ', 'ስ', 'ሹ', 'ቀ', 'ቅ', 'ቆ', 'ብ', 'ተ', 'ት', 'ች', 'ነ', 'ኒ', 'ና', 'ን', 'ኣ', 'እ', 'ከ', 'ወ', 'ዉ', 'ዎ', 'ዘ', 'ዝ', 'የ', 'ይ', 'ደ', 'ዲ', 'ዳ', 'ዴ', 'ድ', 'ዶ', 'ገ', 'ጉ', 'ጠ', 'ጣ', 'ጥ', 'ፈ', 'ፍ', 'ᐅ', 'ᐈ', 'ᐉ', 'ᑞ', 'ᚠ', 'ᚨ', 'ᚲ', 'ᚹ', 'ᛁ', 'ᛃ', 'ᛋ', 'ᛖ', 'ᛚ', 'ក', 'ខ', 'គ', 'ង', 'ច', 'ឈ', 'ញ', 'ដ', 'ត', 'ថ', 'ទ', 'ធ', 'ន', 'ប', 'ព', 'ភ', 'ម', 'យ', 'រ', 'ល', 'វ', 'ស', 'ហ', 'អ', 'ា', 'ិ', 'ី', 'ឹ', 'ឺ', 'ុ', 'ួ', 'ើ', 'ៀ', 'េ', 'ែ', 'ៃ', 'ោ', 'ៅ', 'ំ', 'ះ', '់', '្', '។', 'ᴀ', 'ᴇ', 'ᴋ', 'ᴍ', 'ᴘ', 'ᴰ', 'ᴳ', 'ᴴ', 'ᵇ', 'ᵈ', 'ᵒ', 'ᵘ', 'ᶜ', 'ᶫ', 'Ḉ', 'Ḿ', 'Ạ', 'ạ', 'Ả', 'ả', 'Ấ', 'ấ', 'ầ', 'ẩ', 'ẫ', 'Ậ', 'ậ', 'ắ', 'ằ', 'ẳ', 'Ặ', 'ẻ', 'Ế', 'ế', 'ề', 'ể', 'ễ', 'Ệ', 'ệ', 'ỉ', 'ị', 'ọ', 'ỏ', 'ố', 'ồ', 'ổ', 'ộ', 'Ớ', 'ớ', 'ờ', 'ở', 'Ợ', 'ợ', 'Ụ', 'ụ', 'Ủ', 'ủ', 'ứ', 'ừ', 'Ử', 'ử', 'ữ', 'ự', 'Ỷ', 'ỷ', 'ỹ', 'ῆ', '\\u2002', '\\u2005', '\\u2008', '\\u2009', '\\u200b', '\\u200c', '\\u200d', '\\u200e', '\\u200f', '‐', '‑', '‒', '–', '—', '―', '‖', '‗', '‘', '’', '‚', '“', '”', '„', '†', '‡', '•', '․', '…', '\\u2028', '\\u202a', '″', '‹', '›', '‼', '‿', '⁄', '⁞', '\\u205f', '\\u2063', 'ⁿ', '₪', '€', '₮', '₸', '₽', '℅', 'ℋ', 'ℒ', 'ℓ', '№', 'ℝ', '™', 'ℯ', 'ℴ', 'ℹ', 'Ⅱ', '←', '↑', '→', '↓', '↔', '↹', '⇄', '⇒', '∀', '−', '∕', '∗', '∙', '√', '∞', '∫', '≡', '≪', '≫', '⊕', '⊰', '⊱', '⋆', '⌘', '⌚', '⏱', '①', '②', '④', 'Ⓓ', 'Ⓖ', '⓳', '⓴', '─', '│', '═', '╬', '╭', '╮', '█', '▌', '░', '▓', '■', '▬', '▲', '▶', '▷', '►', '▼', '◄', '◈', '◉', '◊', '○', '●', '◕', '◠', '◣', '◥', '◾', '☀', '☂', '★', '☆', '☎', '☏', '☑', '☕', '☜', '☝', '☞', '☢', '☣', '☯', '☺', '☼', '☽', '☾', '♀', '♂', '♋', '♌', '♍', '♎', '♐', '♑', '♔', '♕', '♚', '♛', '♠', '♡', '♣', '♥', '♦', '♪', '♫', '♬', '♿', '⚕', '⚗', '⚠', '⚡', '⚽', '⛔', '⛳', '✂', '✅', '✆', '✇', '✈', '✊', '✋', '✌', '✍', '✒', '✓', '✔', '✘', '✥', '✦', '✧', '✨', '✪', '✮', '✰', '✴', '✵', '✹', '✿', '❀', '❆', '❈', '❌', '❗', '❘', '❣', '❤', '❥', '❦', '❧', '❱', '❶', '❿', '➀', '➔', '➜', '➠', '➢', '➤', '➥', '➦', '➨', '➬', '➷', '➹', '➼', '⟐', '⬇', '⭐', '\\u3000', '、', '。', '々', '《', '》', '「', '」', '『', '』', '【', '】', '〚', '〛', '〜', '〠', 'あ', 'い', 'う', 'え', 'お', 'か', 'が', 'き', 'ぎ', 'く', 'ぐ', 'け', 'こ', 'ご', 'さ', 'し', 'じ', 'す', 'ず', 'せ', 'そ', 'ぞ', 'た', 'だ', 'ち', 'っ', 'つ', 'づ', 'て', 'で', 'と', 'ど', 'な', 'に', 'ぬ', 'ね', 'の', 'は', 'ば', 'ぱ', 'ひ', 'び', 'ふ', 'ぶ', 'ぷ', 'へ', 'べ', 'ほ', 'ぼ', 'ぽ', 'ま', 'み', 'む', 'め', 'も', 'ゃ', 'や', 'ゅ', 'ゆ', 'ょ', 'よ', 'ら', 'り', 'る', 'れ', 'ろ', 'わ', 'を', 'ん', '゙', '゚', 'ァ', 'ア', 'ィ', 'イ', 'ウ', 'ェ', 'エ', 'ォ', 'オ', 'カ', 'ガ', 'キ', 'ク', 'グ', 'ケ', 'ゲ', 'コ', 'ゴ', 'サ', 'ザ', 'シ', 'ジ', 'ス', 'ズ', 'セ', 'ソ', 'ゾ', 'タ', 'ダ', 'チ', 'ッ', 'ツ', 'テ', 'デ', 'ト', 'ド', 'ナ', 'ニ', 'ネ', 'ノ', 'ハ', 'バ', 'パ', 'ヒ', 'ビ', 'ピ', 'フ', 'ブ', 'プ', 'ヘ', 'ベ', 'ペ', 'ホ', 'ボ', 'ポ', 'マ', 'ミ', 'ム', 'メ', 'モ', 'ャ', 'ヤ', 'ュ', 'ョ', 'ヨ', 'ラ', 'リ', 'ル', 'レ', 'ロ', 'ワ', 'ン', '・', 'ー', 'ㄠ', 'ㅤ', '㋛', '一', '丁', '万', '三', '上', '下', '不', '与', '世', '业', '丝', '中', '丸', '为', '主', '丽', '乃', '久', '之', '乗', '乙', '书', '乱', '乳', '了', '事', '二', '互', '五', '井', '亜', '亞', '交', '享', '京', '人', '今', '从', '仔', '仕', '他', '代', '以', '仮', '仲', '件', '企', '伊', '伏', '会', '伝', '位', '佐', '体', '何', '余', '作', '你', '使', '侣', '便', '俄', '俗', '保', '信', '修', '俱', '俺', '倉', '個', '倍', '倚', '健', '備', '催', '債', '働', '僕', '億', '優', '儿', '元', '先', '光', '免', '入', '全', '八', '公', '共', '具', '典', '内', '再', '写', '军', '冰', '凄', '処', '凸', '出', '分', '切', '刊', '刑', '列', '初', '别', '到', '制', '前', '剖', '力', '加', '劣', '动', '勃', '動', '勝', '募', '匂', '包', '化', '北', '医', '匿', '十', '午', '卍', '卑', '卒', '卓', '南', '単', '博', '卡', '印', '危', '原', '去', '参', '友', '反', '叔', '取', '受', '只', '叫', '台', '史', '叶', '号', '司', '合', '同', '名', '后', '吐', '向', '吗', '君', '吞', '吹', '吻', '呂', '周', '味', '和', '咲', '品', '哇', '哥', '唯', '問', '啦', '喋', '喜', '喪', '喰', '営', '嗅', '嗡', '嘔', '噂', '器', '嚝', '嚪', '囊', '四', '回', '因', '団', '図', '国', '圆', '國', '園', '土', '圧', '在', '地', '场', '坊', '坡', '垂', '型', '垢', '城', '基', '堕', '堪', '報', '塚', '声', '売', '壹', '壺', '変', '夏', '外', '多', '夢', '大', '天', '太', '夫', '央', '失', '奇', '奈', '奉', '奢', '奥', '女', '奶', '她', '好', '如', '妄', '妇', '妈', '妊', '妹', '妻', '姉', '姦', '姫', '娘', '娠', '婚', '婦', '媒', '媚', '嫁', '嫡', '嫩', '嬢', '孃', '子', '孕', '字', '季', '学', '孩', '宁', '宅', '宇', '守', '安', '完', '宏', '官', '定', '宝', '实', '実', '宮', '害', '家', '宽', '密', '富', '寝', '察', '實', '寧', '寮', '寸', '对', '寺', '対', '専', '射', '将', '專', '尋', '小', '少', '尔', '尖', '尻', '尾', '尿', '屈', '屋', '屏', '屑', '展', '属', '屠', '山', '岡', '島', '崎', '川', '州', '工', '巨', '师', '希', '帝', '師', '帯', '帰', '常', '幕', '平', '年', '幻', '店', '度', '座', '庭', '康', '廉', '廠', '廣', '异', '式', '張', '強', '弹', '彈', '当', '形', '彩', '影', '彼', '待', '後', '徎', '従', '得', '復', '心', '必', '忌', '志', '応', '快', '念', '思', '性', '怪', '总', '恋', '恥', '悶', '情', '惑', '惡', '想', '意', '愛', '感', '態', '慢', '慰', '憂', '憧', '懅', '懇', '懈', '戏', '成', '我', '戦', '户', '戸', '房', '所', '手', '才', '打', '技', '抉', '抓', '投', '抖', '抜', '抱', '担', '拍', '拘', '招', '拡', '拷', '持', '振', '挿', '捕', '捜', '採', '接', '換', '搞', '搭', '搵', '搾', '摩', '播', '撮', '攣', '放', '故', '教', '敥', '敬', '数', '整', '文', '斗', '料', '斜', '斯', '新', '方', '旅', '旗', '日', '旦', '早', '旭', '明', '星', '映', '春', '是', '時', '景', '暗', '書', '最', '月', '有', '服', '望', '朝', '期', '木', '未', '本', '术', '杏', '材', '村', '束', '来', '東', '松', '板', '林', '果', '柄', '柜', '查', '査', '树', '栞', '校', '根', '桃', '案', '桉', '桜', '梦', '梨', '械', '棟', '森', '椅', '椎', '検', '楚', '極', '楽', '様', '樂', '模', '樣', '横', '機', '檔', '欢', '欲', '欺', '款', '歓', '止', '正', '武', '歯', '歲', '歳', '歷', '死', '段', '母', '毛', '氏', '気', '水', '氷', '汁', '求', '汇', '汗', '汚', '沙', '河', '油', '沼', '泄', '法', '泡', '泥', '注', '泰', '泻', '洋', '洗', '津', '活', '浅', '浜', '浣', '海', '液', '涼', '淫', '深', '清', '減', '港', '游', '満', '源', '溜', '溺', '演', '漢', '漫', '潮', '激', '濟', '濡', '濤', '瀬', '為', '热', '無', '焦', '然', '照', '熟', '熱', '爆', '爱', '父', '爺', '片', '版', '牝', '特', '犬', '犯', '狂', '狗', '狠', '猥', '猫', '獄', '獲', '玄', '王', '现', '現', '理', '璧', '生', '産', '用', '田', '由', '甲', '电', '男', '町', '画', '界', '留', '番', '疾', '病', '痙', '痛', '痰', '痴', '発', '發', '白', '的', '盗', '監', '盧', '目', '直', '相', '看', '真', '眠', '着', '瞬', '知', '码', '研', '砕', '砲', '破', '砸', '础', '碧', '碼', '磁', '示', '社', '祈', '神', '禁', '私', '科', '秘', '称', '移', '種', '稲', '稿', '穂', '穴', '究', '穹', '空', '穿', '立', '站', '童', '笈', '笑', '第', '筋', '管', '篇', '篠', '簡', '籍', '米', '粋', '精', '糞', '系', '紀', '純', '級', '素', '索', '終', '組', '結', '絢', '給', '絶', '經', '続', '綠', '綾', '緊', '緒', '編', '縛', '级', '纪', '线', '组', '维', '绿', '缘', '网', '罗', '置', '美', '羞', '義', '羽', '老', '者', '耐', '聞', '肉', '肌', '肛', '股', '育', '胆', '胖', '胜', '胱', '胶', '胸', '能', '脚', '脱', '脳', '腰', '腸', '膀', '膣', '自', '至', '致', '舉', '舌', '舍', '舞', '航', '舰', '船', '艇', '良', '色', '艷', '艺', '艾', '芯', '花', '芽', '苍', '苗', '若', '英', '范', '茎', '茜', '茵', '茸', '荒', '莉', '莱', '菊', '菜', '華', '萝', '落', '葵', '蒼', '薪', '薬', '藤', '蘋', '蘭', '行', '街', '衣', '表', '袜', '袪', '被', '袴', '裂', '裏', '裝', '裤', '裸', '褋', '褌', '褍', '褑', '褒', '褘', '褜', '褟', '褻', '要', '覇', '見', '規', '覧', '親', '観', '见', '观', '视', '角', '解', '言', '記', '設', '詐', '試', '話', '誌', '誘', '語', '誤', '說', '説', '誰', '調', '諸', '警', '讐', '认', '记', '调', '谐', '谢', '谷', '豊', '豚', '豪', '貌', '貓', '財', '貨', '販', '貪', '責', '貰', '資', '賞', '贝', '质', '贵', '赌', '走', '起', '超', '趣', '足', '距', '跡', '路', '蹄', '蹈', '躍', '身', '躲', '車', '軍', '軟', '転', '載', '輪', '轮', '轻', '辣', '辱', '辿', '迎', '近', '返', '迫', '迷', '追', '送', '逆', '通', '速', '造', '連', '週', '遇', '遊', '過', '道', '達', '遙', '遠', '遥', '選', '邊', '那', '邪', '郁', '郎', '部', '都', '酔', '里', '野', '量', '金', '釣', '鈴', '録', '鑑', '锌', '错', '長', '长', '門', '開', '間', '関', '閲', '闘', '關', '门', '防', '阴', '阿', '附', '际', '限', '険', '陽', '隊', '隠', '隣', '險', '隷', '雅', '集', '離', '雨', '雪', '電', '需', '霊', '露', '霸', '青', '面', '韓', '音', '響', '頁', '頂', '順', '須', '頚', '額', '顔', '願', '页', '频', '風', '食', '飯', '飲', '館', '馃', '首', '香', '駒', '駝', '駱', '騎', '験', '體', '高', '髪', '鬼', '魂', '魅', '魔', '鮎', '鮮', '鳳', '麻', '黄', '黒', '默', '黙', '鼓', '龙', '가', '간', '갈', '강', '개', '객', '갤', '거', '것', '게', '격', '겪', '결', '계', '고', '골', '곱', '공', '과', '관', '광', '구', '국', '권', '그', '글', '금', '급', '기', '깊', '까', '꿀', '끌', '끝', '끼', '나', '난', '날', '남', '내', '네', '넷', '녀', '년', '노', '누', '느', '는', '늘', '니', '닌', '다', '단', '달', '대', '던', '덩', '데', '델', '도', '돈', '동', '되', '된', '드', '든', '들', '디', '딥', '딩', '때', '땔', '또', '뜨', '라', '락', '란', '람', '랑', '래', '랙', '러', '레', '렉', '렌', '력', '련', '렬', '로', '롱', '료', '룡', '루', '룩', '류', '르', '를', '름', '릉', '리', '린', '릴', '림', '링', '마', '만', '말', '맛', '맞', '매', '머', '멍', '메', '면', '명', '몇', '모', '목', '몬', '무', '문', '물', '뭔', '미', '민', '및', '바', '박', '반', '받', '발', '밤', '방', '배', '뱅', '버', '번', '법', '별', '병', '보', '복', '본', '부', '분', '불', '브', '블', '비', '빨', '뿐', '사', '산', '상', '새', '색', '생', '서', '선', '설', '성', '세', '섹', '셉', '소', '속', '손', '솔', '수', '숙', '순', '숭', '슈', '스', '슬', '슴', '습', '승', '시', '식', '신', '실', '심', '십', '싸', '썰', '씹', '아', '안', '알', '애', '야', '어', '언', '얻', '업', '없', '엉', '에', '엑', '여', '연', '열', '영', '예', '오', '와', '완', '요', '욕', '용', '우', '운', '울', '원', '웹', '위', '유', '으', '은', '을', '음', '의', '이', '인', '일', '입', '있', '잉', '자', '장', '재', '적', '전', '접', '정', '제', '종', '좆', '좌', '주', '준', '중', '즈', '증', '지', '직', '진', '질', '집', '짤', '쭘', '창', '처', '천', '체', '쳐', '초', '촌', '추', '축', '출', '치', '친', '칠', '카', '캠', '커', '컨', '컴', '코', '쿠', '쿨', '크', '큰', '클', '킹', '타', '탄', '탈', '탕', '태', '택', '탱', '터', '텀', '텍', '토', '톱', '통', '투', '트', '특', '틀', '팀', '판', '팬', '펌', '페', '편', '포', '품', '프', '플', '피', '픽', '핀', '필', '핑', '하', '학', '한', '합', '항', '해', '행', '호', '화', '환', '회', '효', '후', '휴', '흑', '희', '히', '\\ue314', '\\ue437', '\\uf06a', 'ﮚ', 'ﮯ', 'ﱢ', 'ﷺ', '️', 'ﺃ', 'ﺍ', 'ﺎ', 'ﺏ', 'ﺐ', 'ﺒ', 'ﺔ', 'ﺖ', 'ﺘ', 'ﺠ', 'ﺮ', 'ﻋ', 'ﻌ', 'ﻎ', 'ﻓ', 'ﻜ', 'ﻟ', 'ﻠ', 'ﻣ', 'ﻧ', 'ﻮ', 'ﻰ', 'ﻻ', '\\ufeff', '！', '＆', '（', '）', '，', '－', '．', '／', '１', '２', '：', '＝', '？', 'Ｃ', 'Ｊ', 'Ｌ', 'Ｍ', 'Ｏ', '｀', 'ｅ', 'ｈ', 'ｉ', 'ｓ', 'ｔ', 'ｙ', '｜', '～', '･', 'ｯ', 'ｸ', 'ｺ', 'ｻ', 'ｽ', 'ﾁ', 'ﾆ', 'ﾗ', 'ﾙ', 'ﾞ', '�', '𝓜', '𝓟', '𝓪', '𝓲', '𝓴', '𝓷', '𝓻', '𝔸', '𝔾', '𝕃', '𝕆', '𝕊', '𝕋', '𝕌', '𝕍', '𝕒', '𝕖', '𝕘', '𝕝', '𝕟', '🇨', '🇫', '🇮', '🇿', '🌃', '🌈', '🌍', '🌎', '🌏', '🌞', '🌟', '🌳', '🌵', '🌷', '🌸', '🌹', '🌺', '🌼', '🌿', '🍃', '🍇', '🍏', '🍐', '🍒', '🍓', '🍕', '🍰', '🍱', '🍳', '🍴', '🎀', '🎁', '🎒', '🎓', '🎞', '🎥', '🎧', '🎨', '🎬', '🎵', '🎸', '🏕', '🏘', '🏠', '🏡', '🏥', '🏻', '🐈', '🐕', '🐘', '🐣', '🐰', '🐱', '🐲', '🐺', '🐾', '👀', '👄', '👉', '👌', '👍', '👏', '👐', '👑', '👓', '👗', '👟', '👢', '👥', '👩', '👶', '👼', '💃', '💄', '💅', '💆', '💇', '💊', '💋', '💎', '💔', '💕', '💖', '💘', '💙', '💚', '💡', '💣', '💤', '💥', '💨', '💪', '💯', '💰', '💲', '💽', '📈', '📌', '📍', '📚', '📝', '📞', '📦', '📱', '📷', '📺', '🔍', '🔎', '🔒', '🔥', '🔧', '🔫', '🔵', '🕌', '🕵', '🖌', '😀', '😉', '😍', '😎', '😏', '😚', '😜', '😱', '😲', '😳', '😴', '😻', '😽', '🙎', '🙏', '🚀', '🚑', '🚗', '🚘', '🚙', '🚤', '🚩', '🚪', '🛍', '🛒', '🛠', '🛳', '🤔', '🤗', '🤷', '🥇', '🥝', '🦀', '🦅', '🦊', '🦋', '🧱']\n"
     ]
    }
   ],
   "source": [
    "s = set()\n",
    "for title in train_df['title']:\n",
    "    s.update(title)\n",
    "print(len(s))\n",
    "print(sorted(list(s)))"
   ]
  },
  {
   "cell_type": "markdown",
   "metadata": {},
   "source": [
    "Сделаем фильтр символов, чтобы сократить словарь. Оставим только буквы русского и английского языков, цифры и различные \"клавиатурный\" спец. символы."
   ]
  },
  {
   "cell_type": "code",
   "execution_count": 14,
   "metadata": {},
   "outputs": [],
   "source": [
    "russian_letters = ''.join([chr(i) for i in range(ord('а'), ord('я') + 1)])\n",
    "russian_letters = russian_letters + russian_letters.upper() + 'ёЁ'\n",
    "title_white_list = set(string.printable + russian_letters)\n",
    "\n",
    "\n",
    "# Будем заменять остальные символы на пробелы, чтобы не склеивать слова\n",
    "def map_title(s: str, replace_sym: str = ' '):\n",
    "    res = ''.join([c if c in title_white_list else replace_sym for c in s])\n",
    "    # заменяем ё на е\n",
    "    res = res.replace('ё', 'е')\n",
    "    res = res.replace('Ё', 'Е')\n",
    "    # Заменяем двойные (и более) пробелы на обычные\n",
    "    res = re.sub(' +', ' ', res)\n",
    "    return res"
   ]
  },
  {
   "cell_type": "markdown",
   "metadata": {},
   "source": [
    "# Разбиение на train и val"
   ]
  },
  {
   "cell_type": "code",
   "execution_count": 15,
   "metadata": {},
   "outputs": [],
   "source": [
    "X = train_df.drop(columns=['label'])\n",
    "y = train_df['label']\n",
    "\n",
    "X_train, X_val, y_train, y_val = train_test_split(\n",
    "    X, y, train_size=0.8, random_state=42\n",
    "    )\n",
    "X_train['title'] = X_train['title'].apply(map_title)\n",
    "X_val['title'] = X_val['title'].apply(map_title)"
   ]
  },
  {
   "cell_type": "markdown",
   "metadata": {},
   "source": [
    "# Построение модели"
   ]
  },
  {
   "cell_type": "code",
   "execution_count": 16,
   "metadata": {},
   "outputs": [
    {
     "data": {
      "text/html": [
       "<style>#sk-container-id-1 {\n",
       "  /* Definition of color scheme common for light and dark mode */\n",
       "  --sklearn-color-text: #000;\n",
       "  --sklearn-color-text-muted: #666;\n",
       "  --sklearn-color-line: gray;\n",
       "  /* Definition of color scheme for unfitted estimators */\n",
       "  --sklearn-color-unfitted-level-0: #fff5e6;\n",
       "  --sklearn-color-unfitted-level-1: #f6e4d2;\n",
       "  --sklearn-color-unfitted-level-2: #ffe0b3;\n",
       "  --sklearn-color-unfitted-level-3: chocolate;\n",
       "  /* Definition of color scheme for fitted estimators */\n",
       "  --sklearn-color-fitted-level-0: #f0f8ff;\n",
       "  --sklearn-color-fitted-level-1: #d4ebff;\n",
       "  --sklearn-color-fitted-level-2: #b3dbfd;\n",
       "  --sklearn-color-fitted-level-3: cornflowerblue;\n",
       "\n",
       "  /* Specific color for light theme */\n",
       "  --sklearn-color-text-on-default-background: var(--sg-text-color, var(--theme-code-foreground, var(--jp-content-font-color1, black)));\n",
       "  --sklearn-color-background: var(--sg-background-color, var(--theme-background, var(--jp-layout-color0, white)));\n",
       "  --sklearn-color-border-box: var(--sg-text-color, var(--theme-code-foreground, var(--jp-content-font-color1, black)));\n",
       "  --sklearn-color-icon: #696969;\n",
       "\n",
       "  @media (prefers-color-scheme: dark) {\n",
       "    /* Redefinition of color scheme for dark theme */\n",
       "    --sklearn-color-text-on-default-background: var(--sg-text-color, var(--theme-code-foreground, var(--jp-content-font-color1, white)));\n",
       "    --sklearn-color-background: var(--sg-background-color, var(--theme-background, var(--jp-layout-color0, #111)));\n",
       "    --sklearn-color-border-box: var(--sg-text-color, var(--theme-code-foreground, var(--jp-content-font-color1, white)));\n",
       "    --sklearn-color-icon: #878787;\n",
       "  }\n",
       "}\n",
       "\n",
       "#sk-container-id-1 {\n",
       "  color: var(--sklearn-color-text);\n",
       "}\n",
       "\n",
       "#sk-container-id-1 pre {\n",
       "  padding: 0;\n",
       "}\n",
       "\n",
       "#sk-container-id-1 input.sk-hidden--visually {\n",
       "  border: 0;\n",
       "  clip: rect(1px 1px 1px 1px);\n",
       "  clip: rect(1px, 1px, 1px, 1px);\n",
       "  height: 1px;\n",
       "  margin: -1px;\n",
       "  overflow: hidden;\n",
       "  padding: 0;\n",
       "  position: absolute;\n",
       "  width: 1px;\n",
       "}\n",
       "\n",
       "#sk-container-id-1 div.sk-dashed-wrapped {\n",
       "  border: 1px dashed var(--sklearn-color-line);\n",
       "  margin: 0 0.4em 0.5em 0.4em;\n",
       "  box-sizing: border-box;\n",
       "  padding-bottom: 0.4em;\n",
       "  background-color: var(--sklearn-color-background);\n",
       "}\n",
       "\n",
       "#sk-container-id-1 div.sk-container {\n",
       "  /* jupyter's `normalize.less` sets `[hidden] { display: none; }`\n",
       "     but bootstrap.min.css set `[hidden] { display: none !important; }`\n",
       "     so we also need the `!important` here to be able to override the\n",
       "     default hidden behavior on the sphinx rendered scikit-learn.org.\n",
       "     See: https://github.com/scikit-learn/scikit-learn/issues/21755 */\n",
       "  display: inline-block !important;\n",
       "  position: relative;\n",
       "}\n",
       "\n",
       "#sk-container-id-1 div.sk-text-repr-fallback {\n",
       "  display: none;\n",
       "}\n",
       "\n",
       "div.sk-parallel-item,\n",
       "div.sk-serial,\n",
       "div.sk-item {\n",
       "  /* draw centered vertical line to link estimators */\n",
       "  background-image: linear-gradient(var(--sklearn-color-text-on-default-background), var(--sklearn-color-text-on-default-background));\n",
       "  background-size: 2px 100%;\n",
       "  background-repeat: no-repeat;\n",
       "  background-position: center center;\n",
       "}\n",
       "\n",
       "/* Parallel-specific style estimator block */\n",
       "\n",
       "#sk-container-id-1 div.sk-parallel-item::after {\n",
       "  content: \"\";\n",
       "  width: 100%;\n",
       "  border-bottom: 2px solid var(--sklearn-color-text-on-default-background);\n",
       "  flex-grow: 1;\n",
       "}\n",
       "\n",
       "#sk-container-id-1 div.sk-parallel {\n",
       "  display: flex;\n",
       "  align-items: stretch;\n",
       "  justify-content: center;\n",
       "  background-color: var(--sklearn-color-background);\n",
       "  position: relative;\n",
       "}\n",
       "\n",
       "#sk-container-id-1 div.sk-parallel-item {\n",
       "  display: flex;\n",
       "  flex-direction: column;\n",
       "}\n",
       "\n",
       "#sk-container-id-1 div.sk-parallel-item:first-child::after {\n",
       "  align-self: flex-end;\n",
       "  width: 50%;\n",
       "}\n",
       "\n",
       "#sk-container-id-1 div.sk-parallel-item:last-child::after {\n",
       "  align-self: flex-start;\n",
       "  width: 50%;\n",
       "}\n",
       "\n",
       "#sk-container-id-1 div.sk-parallel-item:only-child::after {\n",
       "  width: 0;\n",
       "}\n",
       "\n",
       "/* Serial-specific style estimator block */\n",
       "\n",
       "#sk-container-id-1 div.sk-serial {\n",
       "  display: flex;\n",
       "  flex-direction: column;\n",
       "  align-items: center;\n",
       "  background-color: var(--sklearn-color-background);\n",
       "  padding-right: 1em;\n",
       "  padding-left: 1em;\n",
       "}\n",
       "\n",
       "\n",
       "/* Toggleable style: style used for estimator/Pipeline/ColumnTransformer box that is\n",
       "clickable and can be expanded/collapsed.\n",
       "- Pipeline and ColumnTransformer use this feature and define the default style\n",
       "- Estimators will overwrite some part of the style using the `sk-estimator` class\n",
       "*/\n",
       "\n",
       "/* Pipeline and ColumnTransformer style (default) */\n",
       "\n",
       "#sk-container-id-1 div.sk-toggleable {\n",
       "  /* Default theme specific background. It is overwritten whether we have a\n",
       "  specific estimator or a Pipeline/ColumnTransformer */\n",
       "  background-color: var(--sklearn-color-background);\n",
       "}\n",
       "\n",
       "/* Toggleable label */\n",
       "#sk-container-id-1 label.sk-toggleable__label {\n",
       "  cursor: pointer;\n",
       "  display: flex;\n",
       "  width: 100%;\n",
       "  margin-bottom: 0;\n",
       "  padding: 0.5em;\n",
       "  box-sizing: border-box;\n",
       "  text-align: center;\n",
       "  align-items: start;\n",
       "  justify-content: space-between;\n",
       "  gap: 0.5em;\n",
       "}\n",
       "\n",
       "#sk-container-id-1 label.sk-toggleable__label .caption {\n",
       "  font-size: 0.6rem;\n",
       "  font-weight: lighter;\n",
       "  color: var(--sklearn-color-text-muted);\n",
       "}\n",
       "\n",
       "#sk-container-id-1 label.sk-toggleable__label-arrow:before {\n",
       "  /* Arrow on the left of the label */\n",
       "  content: \"▸\";\n",
       "  float: left;\n",
       "  margin-right: 0.25em;\n",
       "  color: var(--sklearn-color-icon);\n",
       "}\n",
       "\n",
       "#sk-container-id-1 label.sk-toggleable__label-arrow:hover:before {\n",
       "  color: var(--sklearn-color-text);\n",
       "}\n",
       "\n",
       "/* Toggleable content - dropdown */\n",
       "\n",
       "#sk-container-id-1 div.sk-toggleable__content {\n",
       "  max-height: 0;\n",
       "  max-width: 0;\n",
       "  overflow: hidden;\n",
       "  text-align: left;\n",
       "  /* unfitted */\n",
       "  background-color: var(--sklearn-color-unfitted-level-0);\n",
       "}\n",
       "\n",
       "#sk-container-id-1 div.sk-toggleable__content.fitted {\n",
       "  /* fitted */\n",
       "  background-color: var(--sklearn-color-fitted-level-0);\n",
       "}\n",
       "\n",
       "#sk-container-id-1 div.sk-toggleable__content pre {\n",
       "  margin: 0.2em;\n",
       "  border-radius: 0.25em;\n",
       "  color: var(--sklearn-color-text);\n",
       "  /* unfitted */\n",
       "  background-color: var(--sklearn-color-unfitted-level-0);\n",
       "}\n",
       "\n",
       "#sk-container-id-1 div.sk-toggleable__content.fitted pre {\n",
       "  /* unfitted */\n",
       "  background-color: var(--sklearn-color-fitted-level-0);\n",
       "}\n",
       "\n",
       "#sk-container-id-1 input.sk-toggleable__control:checked~div.sk-toggleable__content {\n",
       "  /* Expand drop-down */\n",
       "  max-height: 200px;\n",
       "  max-width: 100%;\n",
       "  overflow: auto;\n",
       "}\n",
       "\n",
       "#sk-container-id-1 input.sk-toggleable__control:checked~label.sk-toggleable__label-arrow:before {\n",
       "  content: \"▾\";\n",
       "}\n",
       "\n",
       "/* Pipeline/ColumnTransformer-specific style */\n",
       "\n",
       "#sk-container-id-1 div.sk-label input.sk-toggleable__control:checked~label.sk-toggleable__label {\n",
       "  color: var(--sklearn-color-text);\n",
       "  background-color: var(--sklearn-color-unfitted-level-2);\n",
       "}\n",
       "\n",
       "#sk-container-id-1 div.sk-label.fitted input.sk-toggleable__control:checked~label.sk-toggleable__label {\n",
       "  background-color: var(--sklearn-color-fitted-level-2);\n",
       "}\n",
       "\n",
       "/* Estimator-specific style */\n",
       "\n",
       "/* Colorize estimator box */\n",
       "#sk-container-id-1 div.sk-estimator input.sk-toggleable__control:checked~label.sk-toggleable__label {\n",
       "  /* unfitted */\n",
       "  background-color: var(--sklearn-color-unfitted-level-2);\n",
       "}\n",
       "\n",
       "#sk-container-id-1 div.sk-estimator.fitted input.sk-toggleable__control:checked~label.sk-toggleable__label {\n",
       "  /* fitted */\n",
       "  background-color: var(--sklearn-color-fitted-level-2);\n",
       "}\n",
       "\n",
       "#sk-container-id-1 div.sk-label label.sk-toggleable__label,\n",
       "#sk-container-id-1 div.sk-label label {\n",
       "  /* The background is the default theme color */\n",
       "  color: var(--sklearn-color-text-on-default-background);\n",
       "}\n",
       "\n",
       "/* On hover, darken the color of the background */\n",
       "#sk-container-id-1 div.sk-label:hover label.sk-toggleable__label {\n",
       "  color: var(--sklearn-color-text);\n",
       "  background-color: var(--sklearn-color-unfitted-level-2);\n",
       "}\n",
       "\n",
       "/* Label box, darken color on hover, fitted */\n",
       "#sk-container-id-1 div.sk-label.fitted:hover label.sk-toggleable__label.fitted {\n",
       "  color: var(--sklearn-color-text);\n",
       "  background-color: var(--sklearn-color-fitted-level-2);\n",
       "}\n",
       "\n",
       "/* Estimator label */\n",
       "\n",
       "#sk-container-id-1 div.sk-label label {\n",
       "  font-family: monospace;\n",
       "  font-weight: bold;\n",
       "  display: inline-block;\n",
       "  line-height: 1.2em;\n",
       "}\n",
       "\n",
       "#sk-container-id-1 div.sk-label-container {\n",
       "  text-align: center;\n",
       "}\n",
       "\n",
       "/* Estimator-specific */\n",
       "#sk-container-id-1 div.sk-estimator {\n",
       "  font-family: monospace;\n",
       "  border: 1px dotted var(--sklearn-color-border-box);\n",
       "  border-radius: 0.25em;\n",
       "  box-sizing: border-box;\n",
       "  margin-bottom: 0.5em;\n",
       "  /* unfitted */\n",
       "  background-color: var(--sklearn-color-unfitted-level-0);\n",
       "}\n",
       "\n",
       "#sk-container-id-1 div.sk-estimator.fitted {\n",
       "  /* fitted */\n",
       "  background-color: var(--sklearn-color-fitted-level-0);\n",
       "}\n",
       "\n",
       "/* on hover */\n",
       "#sk-container-id-1 div.sk-estimator:hover {\n",
       "  /* unfitted */\n",
       "  background-color: var(--sklearn-color-unfitted-level-2);\n",
       "}\n",
       "\n",
       "#sk-container-id-1 div.sk-estimator.fitted:hover {\n",
       "  /* fitted */\n",
       "  background-color: var(--sklearn-color-fitted-level-2);\n",
       "}\n",
       "\n",
       "/* Specification for estimator info (e.g. \"i\" and \"?\") */\n",
       "\n",
       "/* Common style for \"i\" and \"?\" */\n",
       "\n",
       ".sk-estimator-doc-link,\n",
       "a:link.sk-estimator-doc-link,\n",
       "a:visited.sk-estimator-doc-link {\n",
       "  float: right;\n",
       "  font-size: smaller;\n",
       "  line-height: 1em;\n",
       "  font-family: monospace;\n",
       "  background-color: var(--sklearn-color-background);\n",
       "  border-radius: 1em;\n",
       "  height: 1em;\n",
       "  width: 1em;\n",
       "  text-decoration: none !important;\n",
       "  margin-left: 0.5em;\n",
       "  text-align: center;\n",
       "  /* unfitted */\n",
       "  border: var(--sklearn-color-unfitted-level-1) 1pt solid;\n",
       "  color: var(--sklearn-color-unfitted-level-1);\n",
       "}\n",
       "\n",
       ".sk-estimator-doc-link.fitted,\n",
       "a:link.sk-estimator-doc-link.fitted,\n",
       "a:visited.sk-estimator-doc-link.fitted {\n",
       "  /* fitted */\n",
       "  border: var(--sklearn-color-fitted-level-1) 1pt solid;\n",
       "  color: var(--sklearn-color-fitted-level-1);\n",
       "}\n",
       "\n",
       "/* On hover */\n",
       "div.sk-estimator:hover .sk-estimator-doc-link:hover,\n",
       ".sk-estimator-doc-link:hover,\n",
       "div.sk-label-container:hover .sk-estimator-doc-link:hover,\n",
       ".sk-estimator-doc-link:hover {\n",
       "  /* unfitted */\n",
       "  background-color: var(--sklearn-color-unfitted-level-3);\n",
       "  color: var(--sklearn-color-background);\n",
       "  text-decoration: none;\n",
       "}\n",
       "\n",
       "div.sk-estimator.fitted:hover .sk-estimator-doc-link.fitted:hover,\n",
       ".sk-estimator-doc-link.fitted:hover,\n",
       "div.sk-label-container:hover .sk-estimator-doc-link.fitted:hover,\n",
       ".sk-estimator-doc-link.fitted:hover {\n",
       "  /* fitted */\n",
       "  background-color: var(--sklearn-color-fitted-level-3);\n",
       "  color: var(--sklearn-color-background);\n",
       "  text-decoration: none;\n",
       "}\n",
       "\n",
       "/* Span, style for the box shown on hovering the info icon */\n",
       ".sk-estimator-doc-link span {\n",
       "  display: none;\n",
       "  z-index: 9999;\n",
       "  position: relative;\n",
       "  font-weight: normal;\n",
       "  right: .2ex;\n",
       "  padding: .5ex;\n",
       "  margin: .5ex;\n",
       "  width: min-content;\n",
       "  min-width: 20ex;\n",
       "  max-width: 50ex;\n",
       "  color: var(--sklearn-color-text);\n",
       "  box-shadow: 2pt 2pt 4pt #999;\n",
       "  /* unfitted */\n",
       "  background: var(--sklearn-color-unfitted-level-0);\n",
       "  border: .5pt solid var(--sklearn-color-unfitted-level-3);\n",
       "}\n",
       "\n",
       ".sk-estimator-doc-link.fitted span {\n",
       "  /* fitted */\n",
       "  background: var(--sklearn-color-fitted-level-0);\n",
       "  border: var(--sklearn-color-fitted-level-3);\n",
       "}\n",
       "\n",
       ".sk-estimator-doc-link:hover span {\n",
       "  display: block;\n",
       "}\n",
       "\n",
       "/* \"?\"-specific style due to the `<a>` HTML tag */\n",
       "\n",
       "#sk-container-id-1 a.estimator_doc_link {\n",
       "  float: right;\n",
       "  font-size: 1rem;\n",
       "  line-height: 1em;\n",
       "  font-family: monospace;\n",
       "  background-color: var(--sklearn-color-background);\n",
       "  border-radius: 1rem;\n",
       "  height: 1rem;\n",
       "  width: 1rem;\n",
       "  text-decoration: none;\n",
       "  /* unfitted */\n",
       "  color: var(--sklearn-color-unfitted-level-1);\n",
       "  border: var(--sklearn-color-unfitted-level-1) 1pt solid;\n",
       "}\n",
       "\n",
       "#sk-container-id-1 a.estimator_doc_link.fitted {\n",
       "  /* fitted */\n",
       "  border: var(--sklearn-color-fitted-level-1) 1pt solid;\n",
       "  color: var(--sklearn-color-fitted-level-1);\n",
       "}\n",
       "\n",
       "/* On hover */\n",
       "#sk-container-id-1 a.estimator_doc_link:hover {\n",
       "  /* unfitted */\n",
       "  background-color: var(--sklearn-color-unfitted-level-3);\n",
       "  color: var(--sklearn-color-background);\n",
       "  text-decoration: none;\n",
       "}\n",
       "\n",
       "#sk-container-id-1 a.estimator_doc_link.fitted:hover {\n",
       "  /* fitted */\n",
       "  background-color: var(--sklearn-color-fitted-level-3);\n",
       "}\n",
       "</style><div id=\"sk-container-id-1\" class=\"sk-top-container\"><div class=\"sk-text-repr-fallback\"><pre>SGDClassifier()</pre><b>In a Jupyter environment, please rerun this cell to show the HTML representation or trust the notebook. <br />On GitHub, the HTML representation is unable to render, please try loading this page with nbviewer.org.</b></div><div class=\"sk-container\" hidden><div class=\"sk-item\"><div class=\"sk-estimator fitted sk-toggleable\"><input class=\"sk-toggleable__control sk-hidden--visually\" id=\"sk-estimator-id-1\" type=\"checkbox\" checked><label for=\"sk-estimator-id-1\" class=\"sk-toggleable__label fitted sk-toggleable__label-arrow\"><div><div>SGDClassifier</div></div><div><a class=\"sk-estimator-doc-link fitted\" rel=\"noreferrer\" target=\"_blank\" href=\"https://scikit-learn.org/1.6/modules/generated/sklearn.linear_model.SGDClassifier.html\">?<span>Documentation for SGDClassifier</span></a><span class=\"sk-estimator-doc-link fitted\">i<span>Fitted</span></span></div></label><div class=\"sk-toggleable__content fitted\"><pre>SGDClassifier()</pre></div> </div></div></div></div>"
      ],
      "text/plain": [
       "SGDClassifier()"
      ]
     },
     "execution_count": 16,
     "metadata": {},
     "output_type": "execute_result"
    }
   ],
   "source": [
    "vectorizer_title = TfidfVectorizer(\n",
    "    stop_words='english', max_features=20000, ngram_range=(1, 4)\n",
    "    )\n",
    "vectorizer_url = TfidfVectorizer(\n",
    "    max_features=2000, analyzer='char', ngram_range=(1, 5)\n",
    "    )\n",
    "\n",
    "X_train_vec_title = vectorizer_title.fit_transform(X_train['title'])\n",
    "X_train_vec_url = vectorizer_url.fit_transform(X_train['url'])\n",
    "X_train_vec = sparse.hstack((X_train_vec_url, X_train_vec_title))\n",
    "\n",
    "classifier = SGDClassifier()\n",
    "classifier.fit(X_train_vec, y_train)"
   ]
  },
  {
   "cell_type": "code",
   "execution_count": 17,
   "metadata": {},
   "outputs": [],
   "source": [
    "base_models = {\n",
    "    'vectorizer_title': vectorizer_title,\n",
    "    'vectorizer_url': vectorizer_url,\n",
    "    'classifier': classifier\n",
    "    }\n",
    "\n",
    "\n",
    "def predict_model(data: pd.DataFrame, models: dict = base_models):\n",
    "    X_vec_title = models['vectorizer_title'].transform(\n",
    "        data['title'].apply(map_title)\n",
    "        )\n",
    "    X_vec_url = models['vectorizer_url'].transform(data['url'])\n",
    "    X_vec = sparse.hstack((X_vec_url, X_vec_title))\n",
    "    y_pred = models['classifier'].predict(X_vec)\n",
    "    return y_pred"
   ]
  },
  {
   "cell_type": "code",
   "execution_count": 18,
   "metadata": {},
   "outputs": [],
   "source": [
    "y_train_pred = predict_model(X_train)\n",
    "y_val_pred = predict_model(X_val)"
   ]
  },
  {
   "cell_type": "code",
   "execution_count": 19,
   "metadata": {},
   "outputs": [
    {
     "name": "stdout",
     "output_type": "stream",
     "text": [
      "Train:\n",
      "Precision: 0.9973427812223207\n",
      "Recall: 0.9415431394906879\n",
      "F1: 0.9686400250254165\n",
      "\n",
      "Validation:\n",
      "Precision: 0.9955242966751918\n",
      "Recall: 0.9345738295318127\n",
      "F1: 0.9640866873065016\n"
     ]
    }
   ],
   "source": [
    "print('Train:')\n",
    "print('Precision:', precision_score(y_train, y_train_pred))\n",
    "print('Recall:', recall_score(y_train, y_train_pred))\n",
    "print('F1:', f1_score(y_train, y_train_pred))\n",
    "print()\n",
    "print('Validation:')\n",
    "print('Precision:', precision_score(y_val, y_val_pred))\n",
    "print('Recall:', recall_score(y_val, y_val_pred))\n",
    "print('F1:', f1_score(y_val, y_val_pred))"
   ]
  },
  {
   "cell_type": "code",
   "execution_count": 20,
   "metadata": {},
   "outputs": [
    {
     "name": "stdout",
     "output_type": "stream",
     "text": [
      "Train:\n",
      "              precision    recall  f1-score   support\n",
      "\n",
      "           0       0.99      1.00      1.00     91253\n",
      "           1       1.00      0.94      0.97     13155\n",
      "\n",
      "    accuracy                           0.99    104408\n",
      "   macro avg       0.99      0.97      0.98    104408\n",
      "weighted avg       0.99      0.99      0.99    104408\n",
      "\n",
      "Validation:\n",
      "              precision    recall  f1-score   support\n",
      "\n",
      "           0       0.99      1.00      0.99     22770\n",
      "           1       1.00      0.93      0.96      3332\n",
      "\n",
      "    accuracy                           0.99     26102\n",
      "   macro avg       0.99      0.97      0.98     26102\n",
      "weighted avg       0.99      0.99      0.99     26102\n",
      "\n"
     ]
    }
   ],
   "source": [
    "print('Train:')\n",
    "print(classification_report(y_train, y_train_pred))\n",
    "print('Validation:')\n",
    "print(classification_report(y_val, y_val_pred))"
   ]
  },
  {
   "cell_type": "markdown",
   "metadata": {},
   "source": [
    "## Немного аналитики модели"
   ]
  },
  {
   "cell_type": "markdown",
   "metadata": {},
   "source": [
    "Найдем топ токенов, которые наиболее сильно характеризуют класс по мнению модели."
   ]
  },
  {
   "cell_type": "code",
   "execution_count": 21,
   "metadata": {},
   "outputs": [],
   "source": [
    "def get_top_k(coef: np.ndarray, vectorizer: TfidfVectorizer, k: int = 10):\n",
    "    i = np.argsort(coef)\n",
    "    vocabulary = vectorizer.get_feature_names_out()\n",
    "    return vocabulary[i[:k]], vocabulary[i[-k:][::-1]]"
   ]
  },
  {
   "cell_type": "code",
   "execution_count": 22,
   "metadata": {},
   "outputs": [
    {
     "data": {
      "application/vnd.microsoft.datawrangler.viewer.v0+json": {
       "columns": [
        {
         "name": "index",
         "rawType": "int64",
         "type": "integer"
        },
        {
         "name": "label=0",
         "rawType": "object",
         "type": "string"
        },
        {
         "name": "label=1",
         "rawType": "object",
         "type": "string"
        }
       ],
       "conversionMethod": "pd.DataFrame",
       "ref": "ba4f2710-c5db-4ba6-bba7-57cba4d20b41",
       "rows": [
        [
         "0",
         "ser",
         "sex"
        ],
        [
         "1",
         ".",
         "porn"
        ],
        [
         "2",
         ".ru",
         "ero"
        ],
        [
         "3",
         ".r",
         "orn"
        ],
        [
         "4",
         "ru",
         "por"
        ],
        [
         "5",
         "rut",
         "xx"
        ],
        [
         "6",
         "ox",
         "x"
        ],
        [
         "7",
         "exp",
         "rn"
        ],
        [
         "8",
         "utu",
         "xxx"
        ],
        [
         "9",
         "lp",
         "porno"
        ]
       ],
       "shape": {
        "columns": 2,
        "rows": 10
       }
      },
      "text/html": [
       "<div>\n",
       "<style scoped>\n",
       "    .dataframe tbody tr th:only-of-type {\n",
       "        vertical-align: middle;\n",
       "    }\n",
       "\n",
       "    .dataframe tbody tr th {\n",
       "        vertical-align: top;\n",
       "    }\n",
       "\n",
       "    .dataframe thead th {\n",
       "        text-align: right;\n",
       "    }\n",
       "</style>\n",
       "<table border=\"1\" class=\"dataframe\">\n",
       "  <thead>\n",
       "    <tr style=\"text-align: right;\">\n",
       "      <th></th>\n",
       "      <th>label=0</th>\n",
       "      <th>label=1</th>\n",
       "    </tr>\n",
       "  </thead>\n",
       "  <tbody>\n",
       "    <tr>\n",
       "      <th>0</th>\n",
       "      <td>ser</td>\n",
       "      <td>sex</td>\n",
       "    </tr>\n",
       "    <tr>\n",
       "      <th>1</th>\n",
       "      <td>.</td>\n",
       "      <td>porn</td>\n",
       "    </tr>\n",
       "    <tr>\n",
       "      <th>2</th>\n",
       "      <td>.ru</td>\n",
       "      <td>ero</td>\n",
       "    </tr>\n",
       "    <tr>\n",
       "      <th>3</th>\n",
       "      <td>.r</td>\n",
       "      <td>orn</td>\n",
       "    </tr>\n",
       "    <tr>\n",
       "      <th>4</th>\n",
       "      <td>ru</td>\n",
       "      <td>por</td>\n",
       "    </tr>\n",
       "    <tr>\n",
       "      <th>5</th>\n",
       "      <td>rut</td>\n",
       "      <td>xx</td>\n",
       "    </tr>\n",
       "    <tr>\n",
       "      <th>6</th>\n",
       "      <td>ox</td>\n",
       "      <td>x</td>\n",
       "    </tr>\n",
       "    <tr>\n",
       "      <th>7</th>\n",
       "      <td>exp</td>\n",
       "      <td>rn</td>\n",
       "    </tr>\n",
       "    <tr>\n",
       "      <th>8</th>\n",
       "      <td>utu</td>\n",
       "      <td>xxx</td>\n",
       "    </tr>\n",
       "    <tr>\n",
       "      <th>9</th>\n",
       "      <td>lp</td>\n",
       "      <td>porno</td>\n",
       "    </tr>\n",
       "  </tbody>\n",
       "</table>\n",
       "</div>"
      ],
      "text/plain": [
       "  label=0 label=1\n",
       "0     ser     sex\n",
       "1       .    porn\n",
       "2     .ru     ero\n",
       "3      .r     orn\n",
       "4      ru     por\n",
       "5     rut      xx\n",
       "6      ox       x\n",
       "7     exp      rn\n",
       "8     utu     xxx\n",
       "9      lp   porno"
      ]
     },
     "execution_count": 22,
     "metadata": {},
     "output_type": "execute_result"
    }
   ],
   "source": [
    "top_url = get_top_k(classifier.coef_[0, :2000], vectorizer_url)\n",
    "pd.DataFrame({'label=0': top_url[0], 'label=1': top_url[1]})"
   ]
  },
  {
   "cell_type": "code",
   "execution_count": 23,
   "metadata": {},
   "outputs": [
    {
     "data": {
      "application/vnd.microsoft.datawrangler.viewer.v0+json": {
       "columns": [
        {
         "name": "index",
         "rawType": "int64",
         "type": "integer"
        },
        {
         "name": "label=0",
         "rawType": "object",
         "type": "string"
        },
        {
         "name": "label=1",
         "rawType": "object",
         "type": "string"
        }
       ],
       "conversionMethod": "pd.DataFrame",
       "ref": "edf53c13-b281-42de-88a0-242146e6ef72",
       "rows": [
        [
         "0",
         "купить",
         "порно"
        ],
        [
         "1",
         "как",
         "porn"
        ],
        [
         "2",
         "скачать",
         "sex"
        ],
        [
         "3",
         "смотреть онлайн",
         "xxx"
        ],
        [
         "4",
         "хорошем",
         "porno"
        ],
        [
         "5",
         "mp3",
         "videos"
        ],
        [
         "6",
         "новости",
         "эротика"
        ],
        [
         "7",
         "форум",
         "секс"
        ],
        [
         "8",
         "video mail",
         "xvideos"
        ],
        [
         "9",
         "video mail ru",
         "video"
        ]
       ],
       "shape": {
        "columns": 2,
        "rows": 10
       }
      },
      "text/html": [
       "<div>\n",
       "<style scoped>\n",
       "    .dataframe tbody tr th:only-of-type {\n",
       "        vertical-align: middle;\n",
       "    }\n",
       "\n",
       "    .dataframe tbody tr th {\n",
       "        vertical-align: top;\n",
       "    }\n",
       "\n",
       "    .dataframe thead th {\n",
       "        text-align: right;\n",
       "    }\n",
       "</style>\n",
       "<table border=\"1\" class=\"dataframe\">\n",
       "  <thead>\n",
       "    <tr style=\"text-align: right;\">\n",
       "      <th></th>\n",
       "      <th>label=0</th>\n",
       "      <th>label=1</th>\n",
       "    </tr>\n",
       "  </thead>\n",
       "  <tbody>\n",
       "    <tr>\n",
       "      <th>0</th>\n",
       "      <td>купить</td>\n",
       "      <td>порно</td>\n",
       "    </tr>\n",
       "    <tr>\n",
       "      <th>1</th>\n",
       "      <td>как</td>\n",
       "      <td>porn</td>\n",
       "    </tr>\n",
       "    <tr>\n",
       "      <th>2</th>\n",
       "      <td>скачать</td>\n",
       "      <td>sex</td>\n",
       "    </tr>\n",
       "    <tr>\n",
       "      <th>3</th>\n",
       "      <td>смотреть онлайн</td>\n",
       "      <td>xxx</td>\n",
       "    </tr>\n",
       "    <tr>\n",
       "      <th>4</th>\n",
       "      <td>хорошем</td>\n",
       "      <td>porno</td>\n",
       "    </tr>\n",
       "    <tr>\n",
       "      <th>5</th>\n",
       "      <td>mp3</td>\n",
       "      <td>videos</td>\n",
       "    </tr>\n",
       "    <tr>\n",
       "      <th>6</th>\n",
       "      <td>новости</td>\n",
       "      <td>эротика</td>\n",
       "    </tr>\n",
       "    <tr>\n",
       "      <th>7</th>\n",
       "      <td>форум</td>\n",
       "      <td>секс</td>\n",
       "    </tr>\n",
       "    <tr>\n",
       "      <th>8</th>\n",
       "      <td>video mail</td>\n",
       "      <td>xvideos</td>\n",
       "    </tr>\n",
       "    <tr>\n",
       "      <th>9</th>\n",
       "      <td>video mail ru</td>\n",
       "      <td>video</td>\n",
       "    </tr>\n",
       "  </tbody>\n",
       "</table>\n",
       "</div>"
      ],
      "text/plain": [
       "           label=0  label=1\n",
       "0           купить    порно\n",
       "1              как     porn\n",
       "2          скачать      sex\n",
       "3  смотреть онлайн      xxx\n",
       "4          хорошем    porno\n",
       "5              mp3   videos\n",
       "6          новости  эротика\n",
       "7            форум     секс\n",
       "8       video mail  xvideos\n",
       "9    video mail ru    video"
      ]
     },
     "execution_count": 23,
     "metadata": {},
     "output_type": "execute_result"
    }
   ],
   "source": [
    "top_title = get_top_k(classifier.coef_[0, 2000:], vectorizer_title)\n",
    "pd.DataFrame({'label=0': top_title[0], 'label=1': top_title[1]})"
   ]
  },
  {
   "cell_type": "markdown",
   "metadata": {},
   "source": [
    "# Создаем submission"
   ]
  },
  {
   "cell_type": "code",
   "execution_count": 24,
   "metadata": {},
   "outputs": [],
   "source": [
    "submission_file = 'submission prefinal.csv'\n",
    "\n",
    "test_df = pd.read_csv(test_file, index_col='ID')\n",
    "y_test_pred = predict_model(test_df)\n",
    "\n",
    "res = pd.DataFrame(y_test_pred, index=test_df.index, columns=['label'])\n",
    "res.to_csv(submission_file)"
   ]
  },
  {
   "cell_type": "markdown",
   "metadata": {},
   "source": [
    "Результат: 0.96311"
   ]
  }
 ],
 "metadata": {
  "kernelspec": {
   "display_name": ".venv",
   "language": "python",
   "name": "python3"
  },
  "language_info": {
   "codemirror_mode": {
    "name": "ipython",
    "version": 3
   },
   "file_extension": ".py",
   "mimetype": "text/x-python",
   "name": "python",
   "nbconvert_exporter": "python",
   "pygments_lexer": "ipython3",
   "version": "3.10.12"
  }
 },
 "nbformat": 4,
 "nbformat_minor": 2
}
